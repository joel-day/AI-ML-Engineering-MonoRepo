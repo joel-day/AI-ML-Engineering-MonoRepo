{
 "cells": [
  {
   "cell_type": "markdown",
   "id": "785b9a3d",
   "metadata": {},
   "source": [
    "# PyTorch - DirectML GPU Acceleration"
   ]
  },
  {
   "cell_type": "code",
   "execution_count": 1,
   "id": "7495746a",
   "metadata": {},
   "outputs": [],
   "source": [
    "import transformers\n",
    "from transformers import AutoTokenizer, AutoModelForCausalLM, AutoModelForSequenceClassification\n",
    "import torch_directml\n",
    "import torch\n",
    "import numpy as np"
   ]
  },
  {
   "cell_type": "markdown",
   "id": "27c04f96",
   "metadata": {},
   "source": [
    "## Verify connection to GPU"
   ]
  },
  {
   "cell_type": "code",
   "execution_count": 2,
   "id": "6de99576",
   "metadata": {},
   "outputs": [],
   "source": [
    "import torch_directml\n",
    "import torch\n",
    "\n",
    "def available_gpu_torch():\n",
    "    if torch.cuda.is_available():\n",
    "        print(\"CUDA is available.\")\n",
    "        print(\"CUDA Device:\", torch.cuda.get_device_name(0))\n",
    "    else:\n",
    "        print(\"CUDA not available.\")\n",
    "\n",
    "    # DirectML check\n",
    "    try:\n",
    "        dml_device = torch_directml.device()\n",
    "        print(\"DirectML Device available:\", dml_device)\n",
    "    except:\n",
    "        print(\"DirectML not available.\")\n",
    "\n",
    "    # Always available\n",
    "    print(\"CPU Device:\", torch.device(\"cpu\"))\n"
   ]
  },
  {
   "cell_type": "code",
   "execution_count": 3,
   "id": "e8feaad7",
   "metadata": {},
   "outputs": [],
   "source": [
    "def manual_test_gpu():\n",
    "    dml = torch_directml.device()\n",
    "    x = torch.randn(5, 5).to(dml)\n",
    "    print(x)\n"
   ]
  },
  {
   "cell_type": "code",
   "execution_count": 4,
   "id": "2e9b5770",
   "metadata": {},
   "outputs": [
    {
     "name": "stdout",
     "output_type": "stream",
     "text": [
      "CUDA not available.\n",
      "DirectML Device available: privateuseone:0\n",
      "CPU Device: cpu\n",
      "tensor([[ 0.7117,  0.0386,  1.0696, -0.7149, -2.0709],\n",
      "        [-1.1531,  1.9733,  0.4399, -0.9863, -2.2153],\n",
      "        [ 1.4441,  0.2210, -0.4448,  1.6996,  0.3110],\n",
      "        [ 0.6144,  1.9952,  2.0291, -0.0976, -0.6362],\n",
      "        [ 0.8082, -1.0828, -0.2688,  2.7290, -1.0088]],\n",
      "       device='privateuseone:0')\n"
     ]
    }
   ],
   "source": [
    "available_gpu_torch()\n",
    "manual_test_gpu()"
   ]
  },
  {
   "cell_type": "markdown",
   "id": "ac32f22e",
   "metadata": {},
   "source": [
    "## Inference using DirectML"
   ]
  },
  {
   "cell_type": "code",
   "execution_count": 5,
   "id": "e8f24aef",
   "metadata": {},
   "outputs": [],
   "source": [
    "dml = torch_directml.device()"
   ]
  },
  {
   "cell_type": "code",
   "execution_count": null,
   "id": "095daae5",
   "metadata": {},
   "outputs": [],
   "source": []
  },
  {
   "cell_type": "code",
   "execution_count": null,
   "id": "6d618594",
   "metadata": {},
   "outputs": [],
   "source": []
  },
  {
   "cell_type": "code",
   "execution_count": null,
   "id": "9e080731",
   "metadata": {},
   "outputs": [],
   "source": []
  },
  {
   "cell_type": "code",
   "execution_count": null,
   "id": "a2cc514d",
   "metadata": {},
   "outputs": [],
   "source": []
  },
  {
   "cell_type": "code",
   "execution_count": 6,
   "id": "0ef8bff8",
   "metadata": {},
   "outputs": [],
   "source": [
    "dml_device = torch_directml.device()"
   ]
  },
  {
   "cell_type": "code",
   "execution_count": 7,
   "id": "e516ce4b",
   "metadata": {},
   "outputs": [
    {
     "name": "stdout",
     "output_type": "stream",
     "text": [
      "Full response:\n",
      "{'text': 'The movie was absolutely wonderful and engaging!', 'label': 'POSITIVE', 'confidence': 1.0, 'probabilities': {'NEGATIVE': 0.0, 'POSITIVE': 1.0}}\n"
     ]
    }
   ],
   "source": [
    "from transformers import AutoTokenizer, AutoModelForSequenceClassification\n",
    "\n",
    "# Load tokenizer\n",
    "tokenizer = AutoTokenizer.from_pretrained(\"distilbert-base-uncased-finetuned-sst-2-english\")\n",
    "\n",
    "# Load model and move to DirectML device\n",
    "model = AutoModelForSequenceClassification.from_pretrained(\"distilbert-base-uncased-finetuned-sst-2-english\")\n",
    "model.to(dml_device)\n",
    "model.eval()\n",
    "\n",
    "# Label mapping (often available from config)\n",
    "id2label = model.config.id2label\n",
    "\n",
    "# Prepare your input\n",
    "text = \"The movie was absolutely wonderful and engaging!\"\n",
    "inputs = tokenizer(text, return_tensors=\"pt\", padding=True, truncation=True)\n",
    "\n",
    "# Move input tensors to DirectML device\n",
    "inputs_on_dml = {k: v.to(dml_device) for k, v in inputs.items()}\n",
    "\n",
    "# Run inference\n",
    "with torch.no_grad():\n",
    "    outputs = model(**inputs_on_dml)\n",
    "\n",
    "logits = outputs.logits.detach().to(\"cpu\")\n",
    "probs = torch.nn.functional.softmax(logits, dim=-1).squeeze().numpy()\n",
    "\n",
    "# Get predicted class index\n",
    "predicted_class_id = int(np.argmax(probs))\n",
    "predicted_label = id2label[predicted_class_id]\n",
    "confidence = float(probs[predicted_class_id])\n",
    "\n",
    "# Print full response\n",
    "print(\"Full response:\")\n",
    "print({\n",
    "    \"text\": text,\n",
    "    \"label\": predicted_label,\n",
    "    \"confidence\": round(confidence, 3),\n",
    "    \"probabilities\": {id2label[i]: round(float(p), 3) for i, p in enumerate(probs)}\n",
    "})\n"
   ]
  },
  {
   "cell_type": "code",
   "execution_count": null,
   "id": "200cac4a",
   "metadata": {},
   "outputs": [],
   "source": []
  },
  {
   "cell_type": "code",
   "execution_count": null,
   "id": "5f1e36bb",
   "metadata": {},
   "outputs": [],
   "source": []
  },
  {
   "cell_type": "code",
   "execution_count": null,
   "id": "93112921",
   "metadata": {},
   "outputs": [],
   "source": []
  }
 ],
 "metadata": {
  "kernelspec": {
   "display_name": ".venv",
   "language": "python",
   "name": "python3"
  },
  "language_info": {
   "codemirror_mode": {
    "name": "ipython",
    "version": 3
   },
   "file_extension": ".py",
   "mimetype": "text/x-python",
   "name": "python",
   "nbconvert_exporter": "python",
   "pygments_lexer": "ipython3",
   "version": "3.12.9"
  }
 },
 "nbformat": 4,
 "nbformat_minor": 5
}
