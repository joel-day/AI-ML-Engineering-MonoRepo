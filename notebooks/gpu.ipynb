{
 "cells": [
  {
   "cell_type": "code",
   "execution_count": 1,
   "id": "7495746a",
   "metadata": {},
   "outputs": [
    {
     "name": "stderr",
     "output_type": "stream",
     "text": [
      "c:\\Users\\joel\\Desktop\\AI-ML-Engineering-MonoRepo\\.venv\\Lib\\site-packages\\tqdm\\auto.py:21: TqdmWarning: IProgress not found. Please update jupyter and ipywidgets. See https://ipywidgets.readthedocs.io/en/stable/user_install.html\n",
      "  from .autonotebook import tqdm as notebook_tqdm\n"
     ]
    }
   ],
   "source": [
    "import transformers"
   ]
  },
  {
   "cell_type": "code",
   "execution_count": 2,
   "id": "e4a9cfaf",
   "metadata": {},
   "outputs": [],
   "source": [
    "import torch"
   ]
  },
  {
   "cell_type": "code",
   "execution_count": 3,
   "id": "2a2b815e",
   "metadata": {},
   "outputs": [],
   "source": [
    "from transformers import AutoTokenizer, AutoModelForCausalLM"
   ]
  },
  {
   "cell_type": "code",
   "execution_count": 4,
   "id": "d1cc7cf0",
   "metadata": {},
   "outputs": [],
   "source": [
    "import torch_directml"
   ]
  },
  {
   "cell_type": "code",
   "execution_count": 5,
   "id": "8fec9d7c",
   "metadata": {},
   "outputs": [
    {
     "name": "stdout",
     "output_type": "stream",
     "text": [
      "DirectML Device: privateuseone:0\n"
     ]
    }
   ],
   "source": [
    "# Get the DirectML device (your Radeon RX 6750 XT)\n",
    "dml_device = torch_directml.device()\n",
    "\n",
    "# Print out the device to confirm it's working\n",
    "print(\"DirectML Device:\", dml_device)"
   ]
  },
  {
   "cell_type": "code",
   "execution_count": 8,
   "id": "583d677e",
   "metadata": {},
   "outputs": [
    {
     "name": "stdout",
     "output_type": "stream",
     "text": [
      "tensor([[-1.0627, -0.4537,  0.5497],\n",
      "        [ 0.8274, -0.1481,  0.1188],\n",
      "        [-0.2839, -0.1297,  0.5426]], device='privateuseone:0')\n"
     ]
    }
   ],
   "source": [
    "\n",
    "dml = torch_directml.device()\n",
    "x = torch.randn(3, 3).to(dml)\n",
    "print(x)"
   ]
  },
  {
   "cell_type": "code",
   "execution_count": 23,
   "id": "aa3b60bd",
   "metadata": {},
   "outputs": [],
   "source": [
    "device = torch_directml.device()\n",
    "\n",
    "a = torch.randn(4096, 4096, device=device)\n",
    "b = torch.randn(4096, 4096, device=device)\n",
    "\n",
    "\n",
    "for _ in range(50):\n",
    "    c = torch.matmul(a, b)\n"
   ]
  },
  {
   "cell_type": "code",
   "execution_count": null,
   "id": "e516ce4b",
   "metadata": {},
   "outputs": [],
   "source": []
  }
 ],
 "metadata": {
  "kernelspec": {
   "display_name": ".venv",
   "language": "python",
   "name": "python3"
  },
  "language_info": {
   "codemirror_mode": {
    "name": "ipython",
    "version": 3
   },
   "file_extension": ".py",
   "mimetype": "text/x-python",
   "name": "python",
   "nbconvert_exporter": "python",
   "pygments_lexer": "ipython3",
   "version": "3.12.9"
  }
 },
 "nbformat": 4,
 "nbformat_minor": 5
}
